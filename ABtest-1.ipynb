{
 "cells": [
  {
   "cell_type": "code",
   "execution_count": 1,
   "metadata": {},
   "outputs": [
    {
     "name": "stderr",
     "output_type": "stream",
     "text": [
      "//miniconda3/lib/python3.7/site-packages/statsmodels/tools/_testing.py:19: FutureWarning: pandas.util.testing is deprecated. Use the functions in the public API at pandas.testing instead.\n",
      "  import pandas.util.testing as tm\n"
     ]
    }
   ],
   "source": [
    "# %matplotlib inline\n",
    "import numpy as np\n",
    "import scipy\n",
    "import pandas as pd\n",
    "import matplotlib.pyplot as plt\n",
    "#import statsmodels.formula.api as sm\n",
    "import seaborn as sns\n",
    "import sklearn as sl\n",
    "from sklearn import preprocessing\n",
    "import warnings\n",
    "warnings.filterwarnings('ignore')\n",
    "pd.set_option('display.float_format', lambda x: '%.3f' % x)"
   ]
  },
  {
   "cell_type": "code",
   "execution_count": 2,
   "metadata": {},
   "outputs": [],
   "source": [
    "data = pd.read_csv('./dataset/test_basic.csv')"
   ]
  },
  {
   "cell_type": "code",
   "execution_count": 3,
   "metadata": {},
   "outputs": [
    {
     "data": {
      "text/html": [
       "<div>\n",
       "<style scoped>\n",
       "    .dataframe tbody tr th:only-of-type {\n",
       "        vertical-align: middle;\n",
       "    }\n",
       "\n",
       "    .dataframe tbody tr th {\n",
       "        vertical-align: top;\n",
       "    }\n",
       "\n",
       "    .dataframe thead th {\n",
       "        text-align: right;\n",
       "    }\n",
       "</style>\n",
       "<table border=\"1\" class=\"dataframe\">\n",
       "  <thead>\n",
       "    <tr style=\"text-align: right;\">\n",
       "      <th></th>\n",
       "      <th>user_id</th>\n",
       "      <th>conversion</th>\n",
       "      <th>test</th>\n",
       "    </tr>\n",
       "  </thead>\n",
       "  <tbody>\n",
       "    <tr>\n",
       "      <th>0</th>\n",
       "      <td>860955</td>\n",
       "      <td>0</td>\n",
       "      <td>0</td>\n",
       "    </tr>\n",
       "    <tr>\n",
       "      <th>1</th>\n",
       "      <td>911569</td>\n",
       "      <td>0</td>\n",
       "      <td>1</td>\n",
       "    </tr>\n",
       "    <tr>\n",
       "      <th>2</th>\n",
       "      <td>673989</td>\n",
       "      <td>0</td>\n",
       "      <td>0</td>\n",
       "    </tr>\n",
       "    <tr>\n",
       "      <th>3</th>\n",
       "      <td>562761</td>\n",
       "      <td>0</td>\n",
       "      <td>0</td>\n",
       "    </tr>\n",
       "    <tr>\n",
       "      <th>4</th>\n",
       "      <td>64288</td>\n",
       "      <td>0</td>\n",
       "      <td>0</td>\n",
       "    </tr>\n",
       "  </tbody>\n",
       "</table>\n",
       "</div>"
      ],
      "text/plain": [
       "   user_id  conversion  test\n",
       "0   860955           0     0\n",
       "1   911569           0     1\n",
       "2   673989           0     0\n",
       "3   562761           0     0\n",
       "4    64288           0     0"
      ]
     },
     "execution_count": 3,
     "metadata": {},
     "output_type": "execute_result"
    }
   ],
   "source": [
    "data.head()"
   ]
  },
  {
   "cell_type": "markdown",
   "metadata": {},
   "source": [
    "user_id : the id of the user\n",
    "conversion : this is the metric we care about in the test. In this case it is conversion. The goal of the test was to increase conversion rate\n",
    "test : whether the user was in test (1) or control(0). If in test, they saw the new version of the site. Otherwise, they saw the old version"
   ]
  },
  {
   "cell_type": "markdown",
   "metadata": {},
   "source": [
    "A/B Test\n",
    "\n",
    "This table shows how test results are typically stored. Once you have the results in a table like that, all you need to do is usually running a t-test to check whether average conversion rate is significantly different for people who were exposed to the site change vs the others.\n",
    "In practice, it would simply be something like this:\n"
   ]
  },
  {
   "cell_type": "code",
   "execution_count": 10,
   "metadata": {},
   "outputs": [
    {
     "data": {
      "text/plain": [
       "(78943, 3)"
      ]
     },
     "execution_count": 10,
     "metadata": {},
     "output_type": "execute_result"
    }
   ],
   "source": [
    "data.shape"
   ]
  },
  {
   "cell_type": "code",
   "execution_count": 4,
   "metadata": {},
   "outputs": [
    {
     "name": "stdout",
     "output_type": "stream",
     "text": [
      "test\n",
      "0   0.044\n",
      "1   0.056\n",
      "Name: conversion, dtype: float64\n"
     ]
    }
   ],
   "source": [
    "#check conversion rate for both groups\n",
    "print(data.groupby('test')['conversion'].mean())"
   ]
  },
  {
   "cell_type": "code",
   "execution_count": 5,
   "metadata": {},
   "outputs": [
    {
     "name": "stdout",
     "output_type": "stream",
     "text": [
      "1        0\n",
      "6        0\n",
      "7        0\n",
      "9        0\n",
      "10       0\n",
      "        ..\n",
      "78932    0\n",
      "78933    0\n",
      "78934    1\n",
      "78935    0\n",
      "78937    0\n",
      "Name: conversion, Length: 41512, dtype: int64\n"
     ]
    }
   ],
   "source": [
    "print(data[data['test']== 1]['conversion'])"
   ]
  },
  {
   "cell_type": "code",
   "execution_count": 6,
   "metadata": {},
   "outputs": [],
   "source": [
    "from scipy import stats\n",
    "#perform a statistical test between the two groups\n",
    "test = stats.ttest_ind(data.loc[data['test'] == 1]['conversion'], data.loc[data['test'] == 0]['conversion'], equal_var=False)"
   ]
  },
  {
   "cell_type": "code",
   "execution_count": 9,
   "metadata": {},
   "outputs": [],
   "source": [
    "from scipy import stats\n",
    "#perform a statistical test between the two groups, different way to code\n",
    "test = stats.ttest_ind(data.query('test ==1').conversion, data.query('test ==0').conversion,equal_var=False)"
   ]
  },
  {
   "cell_type": "code",
   "execution_count": 10,
   "metadata": {},
   "outputs": [
    {
     "name": "stdout",
     "output_type": "stream",
     "text": [
      "7.705449851546837\n"
     ]
    }
   ],
   "source": [
    "print(test.statistic)"
   ]
  },
  {
   "cell_type": "code",
   "execution_count": 6,
   "metadata": {},
   "outputs": [
    {
     "name": "stdout",
     "output_type": "stream",
     "text": [
      "1.3189559402908635e-14\n"
     ]
    }
   ],
   "source": [
    "print(test.pvalue)"
   ]
  },
  {
   "cell_type": "markdown",
   "metadata": {},
   "source": [
    "A test is winning if the test group is statistically significantly better. Statistical significance is usually assumed to be present if the p-value is <0.05. With regards to better, you need to make sure that the t-statistic is positive\n",
    "\n",
    "If p-value were <0.05 and the t-statistic were negative, then test would be significantly worse than control\n",
    "\n",
    "If p-value were > 0.05, then the difference between test and control would not be statistically significant\n"
   ]
  },
  {
   "cell_type": "code",
   "execution_count": 7,
   "metadata": {},
   "outputs": [
    {
     "name": "stdout",
     "output_type": "stream",
     "text": [
      "Statistically better results\n"
     ]
    }
   ],
   "source": [
    "#print test results\n",
    "if (test.pvalue>0.05):\n",
    "  print (\"Non-significant results\")\n",
    "elif (test.statistic>0):\n",
    "  print (\"Statistically better results\")\n",
    "else:\n",
    "  print (\"Statistically worse results\")"
   ]
  },
  {
   "cell_type": "markdown",
   "metadata": {},
   "source": [
    "So in this case, the test is winning. Conversion rate is higher (from 4.3% to 5.5%) and the p-value is super low, suggesting us that that difference is extremely unlikely to be by chance. So we can be pretty confident that the new version is better and we should roll it out for all users."
   ]
  },
  {
   "cell_type": "markdown",
   "metadata": {},
   "source": [
    "A/B Testing Complexity\n",
    "\n",
    "As we have seen, there are few things as simple as checking the test results once you have a clean table. The complexity in A/B testing comes from how to get to that clean table. There are several assumptions needed along the way in order for us to run the t-test. And we need to design the test in a way such that those assumptions are met. Namely:\n",
    "\n",
    "Sample size: we have collected enough data to be able to detect a difference of at least the minimum amount we care about. For instance, if we had 10 users in test and 10 in control, the difference would never be statistically significant. So we need to make sure sample size is large enough\n",
    "\n",
    "Randomization: we are assuming that two groups, test and control, are the same except for the new feature we are testing. So the difference we might see in conversion rate only depends on the new feature. This means that, for instance, the proportion of new users vs repeat users is the same, that proportion of users from US, UK, etc. is the same and so on. Basically, user distribution is the same across all variables that might impact conversion rate\n",
    "\n",
    "Independency: we are assuming that events are independent. So we are assuming that what a certain user does, does not affect the behavior of another user. This is particularly hard to achieve in many of the most popular websites. After all, the best tech companies are those with network effects. And network effect implies that users are connected with each other. So it is non-trivial to design tests where users are actually independent from each other\n",
    "\n",
    "Test result generalization: we are assuming that whatever we observe during the test can be generalized for all the population for an amount of time much longer than the test ran for. This is also not so straightforward. The most common case in which this is not true is novelty effect, but there are quite a few other cases. Novelty effect means that, when you show users a new feature, at first they will interact a lot with it mainly out of curiosity. Once curiosity wears off, they go back to their old behavior. So the new feature is not really better and will not deliver any long term gain despite the test winning, the opposite is change aversion, sometime user do not like changes, it takes some time for users to adjust changes."
   ]
  },
  {
   "cell_type": "markdown",
   "metadata": {},
   "source": [
    "Sample Size\n",
    " \n",
    "The first step in designing an A/B test is figuring out for how long it should be run. That is, how many users do you need in your test? Or, rephrasing it in a statistical way, what’s the test sample size?\n",
    "\n",
    "In the majority of cases, test sample size depends on 3 parameters:\n",
    "\n",
    "Test significance level. This represents the probability to wrongly think that the new version is better than the old version. Obviously, the lower this number is, the better. A pretty common value for this is 0.05\n",
    "\n",
    "Test power. This is the probability of correctly saying that the new version is better, when it is indeed better. 1-power is the probability of not making the change to the site, while you should have done it (being too conservative essentially). A common value for the power is 0.8. Obviously the higher, the better\n",
    "\n",
    "Minimum effect you are interested in detecting: when you run a test, there is going to be a threshold below which, even if the test is winning, you won’t bother to make the change. Like if test is better than control by 0.000001%, you probably still won’t make the change, even if that difference were statistically significant. The engineering costs, time, and opportunity-cost in general, will make it useless to make a change to get that small of a gain. So the minimum effect defines what’s that threshold above which it makes sense to go ahead with the change\n",
    "\n",
    "Sample size increases the smaller the significance level, the higher the power, and the smaller the minimum effect.\n",
    "\n",
    "In practice, power and significance level are pretty much always 0.8 and 0.05. So what really affects sample size is the minimum effect.\n",
    "\n",
    "Minimum effect is a business decision more than anything else, not really a data scientist decision. At work, it will typically be a product manager decision. After all, for that you need to take into account things like engineering costs, time, and opportunity-cost of not using those resources to run other tests. And that requires a comprehensive company vision which is typical of product managers, or VP/Director of product in smaller companies.\n",
    "\n",
    "However, it is a data scientist job to let product people know for how long the test needs to be run based on their business requirements.\n",
    "\n",
    "Sample Size Calculation\n",
    "\n",
    "In the example below, we want to change our home page and the metric we are trying to improve is conversion rate from the home page to the second page in the funnel. Said it another way, we want to decrease the percentage of bouncers, i.e. people who come to the home page and then leave without doing anything. Let’s assume the current home-page to next-page conversion rate is 10%.\n",
    "\n",
    "And let’s assume our product manager has told us that we only care about an improvement of at least +1%. Meaning, the new conversion rate for the test has to be at least 11%, up 1% from the 10% starting point. Otherwise, it is not going to be worth our time to even try the test and there are other stuff we could work on with higher potential."
   ]
  },
  {
   "cell_type": "markdown",
   "metadata": {},
   "source": [
    "Firstly, we need to define the two conversion rates via proportion_effectsize. \n",
    "The first element here (0.1) is simply the conversion rate of the site prior to running the test. Aka control conversion rate\n",
    "The second one (0.11) is the minimum conversion rate of the test that would make it worth it to make the change"
   ]
  },
  {
   "cell_type": "code",
   "execution_count": 11,
   "metadata": {},
   "outputs": [
    {
     "name": "stdout",
     "output_type": "stream",
     "text": [
      "The required sample size per group is ~ 14744\n"
     ]
    }
   ],
   "source": [
    "import statsmodels.stats.api as sms\n",
    "p1_and_p2 = sms.proportion_effectsize(0.1, 0.11)\n",
    "#Now we can run the function that after passing the two conversion rates above + power and significance, returns sample size\n",
    "sample_size = sms.NormalIndPower().solve_power(p1_and_p2, power=0.8, alpha=0.05)\n",
    "print(\"The required sample size per group is ~\", round(sample_size))"
   ]
  },
  {
   "cell_type": "markdown",
   "metadata": {},
   "source": [
    "The output is pretty self-explanatory: this is telling us that we need ~15K in both test and control for us to be able to detect an increase of at least +1% in our metric.\n",
    "\n",
    "Note that you can also pass a vector and see how sample size would change with different values for p2 (our test minimum conversion rate to make the change). You can then show that to the product manager to help them choose the best minimum effect. Something like this:"
   ]
  },
  {
   "cell_type": "code",
   "execution_count": 16,
   "metadata": {},
   "outputs": [
    {
     "name": "stdout",
     "output_type": "stream",
     "text": [
      "[0.105 0.11  0.115 0.12  0.125 0.13  0.135 0.14  0.145 0.15 ]\n"
     ]
    },
    {
     "data": {
      "image/png": "[encoded data removed]",
      "text/plain": [
       "<Figure size 432x288 with 1 Axes>"
      ]
     },
     "metadata": {
      "needs_background": "light"
     },
     "output_type": "display_data"
    }
   ],
   "source": [
    "import numpy as np\n",
    "import matplotlib.pyplot as plt\n",
    "#Possible p2 values. We choose from 10.5% to 15% with 0.5% increments\n",
    "possible_p2 = np.arange(.105, .155, .005)\n",
    "print(possible_p2)\n",
    "#now let's estimate sample size for all those values and plot them\n",
    "sample_size = []\n",
    "for i in possible_p2:\n",
    "    p1_and_p2 = sms.proportion_effectsize(0.1, i)\n",
    "    sample_size.append(sms.NormalIndPower().solve_power(p1_and_p2, power=0.8, alpha=0.05))\n",
    "plt.plot(sample_size, possible_p2)\n",
    "plt.title(\"Sample size vs Minimum Effect size\")\n",
    "plt.xlabel(\"Sample Size\")\n",
    "plt.ylabel(\"Minimum Test Conversion rate\")\n",
    "plt.show()"
   ]
  },
  {
   "cell_type": "markdown",
   "metadata": {},
   "source": [
    " Here you can see very well that, as we increase p2, the required sample size goes down quickly. It makes sense. \n",
    " \n",
    " If we are looking for a very small gain, we need a lot of data to find it. But if we are looking for a huge gain like from 10% to 15% conversion rate, few data will be enough to check if that’s happening or not.\n",
    "Finally, now that you know how many people you need in test and control, you can figure out for how many days you need to run the test based on your daily traffic.\n",
    "\n",
    "A widely used approach to this is:\n",
    "\n",
    "If you need more than 2 weeks to collect that many people, just split the traffic 50/50 and run it until you have the required sample size\n",
    "\n",
    "Otherwise, still run it for two weeks to be able to reliably capture weekly patterns. But test it on the smallest percentage of users that would allow to collect enough data in 2 weeks"
   ]
  },
  {
   "cell_type": "markdown",
   "metadata": {},
   "source": [
    "Example:\n",
    "Let’s assume our site has 1K visitors per day. We found out we need ~15K users in both test and control to detect an improvement of at least +1%. So we would split the traffic 50/50 for test and control. Each day we would have 500 users in test and 500 in control. And we would run the test for 1 month, i.e. 30*500 = 15K\n",
    "\n",
    "Let’s assume our site has 100K visitors per day. By splitting test and control 50/50, we would get all users we need in 1 day. But that would be too noisy, Sunday is different from Monday. And if we ran it for two weeks with a 50/50 split, we would collect way more data than we need. And that’s also not efficient, after all we could use that traffic to test other things. So we do something like this:\n",
    "\n",
    "We want to have 15K people in two weeks. That means ~1K people per day. Since we have 100K daily visitors, 1% of our users will enter the test and see the different version of the site. Because of this, large companies typically run tests on 1% or less of their users"
   ]
  },
  {
   "cell_type": "code",
   "execution_count": null,
   "metadata": {},
   "outputs": [],
   "source": []
  }
 ],
 "metadata": {
  "kernelspec": {
   "display_name": "Python 3",
   "language": "python",
   "name": "python3"
  },
  "language_info": {
   "codemirror_mode": {
    "name": "ipython",
    "version": 3
   },
   "file_extension": ".py",
   "mimetype": "text/x-python",
   "name": "python",
   "nbconvert_exporter": "python",
   "pygments_lexer": "ipython3",
   "version": "3.7.3"
  }
 },
 "nbformat": 4,
 "nbformat_minor": 2
}
